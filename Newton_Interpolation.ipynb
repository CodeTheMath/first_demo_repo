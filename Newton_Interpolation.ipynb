{
 "cells": [
  {
   "cell_type": "code",
   "execution_count": 8,
   "id": "f03e4347",
   "metadata": {},
   "outputs": [
    {
     "data": {
      "image/png": "[encoded data removed]",
      "text/plain": [
       "<Figure size 432x288 with 1 Axes>"
      ]
     },
     "metadata": {
      "needs_background": "light"
     },
     "output_type": "display_data"
    }
   ],
   "source": [
    "## -- the file presents a simple example of a interpolating procedure using Newton method\n",
    "\n",
    "import numpy as np\n",
    "from matplotlib import pyplot as plt\n",
    "\n",
    "\n",
    "def eval_poly(x, n, xxi, coefs):\n",
    "    # -- the function evaluet a value of Newton's polynomial using an afficient approach\n",
    "    p = coefs[0, max(coefs.shape) - 1]\n",
    "    for k in range(n - 1, 0, -1):\n",
    "        # print(k)\n",
    "        p = p * (x - xxi[0, k - 1]) + coefs[0, k - 1]\n",
    "    px = p\n",
    "    return px\n",
    "\n",
    "#-- define sample imput data (cocrdinates of points to interpolate)\n",
    "xi = np.linspace(3, 8, 10)\n",
    "xi = np.asanyarray(xi)\n",
    "xi = np.array(xi)[np.newaxis]\n",
    "yi = -0.2 * xi ** 5 + 1.3 * xi ** 4 + 2.7 * xi ** 2 + 4.3 * xi + 16\n",
    "\n",
    "nPoints = np.max(xi.shape)\n",
    "\n",
    "#-- define a domain to create a plot after interpolation\n",
    "xx = np.linspace(np.min(xi), np.max(xi), nPoints * 10)\n",
    "xx = np.asanyarray(xx)\n",
    "xx = np.array(xx)[np.newaxis]  # -- zeby postrzegal to jako konstrukcje 1xn (tablice)\n",
    "\n",
    "#-- starting interpolation procedure\n",
    "mat = np.zeros((nPoints, nPoints + 1))\n",
    "\n",
    "##--looping thru columns\n",
    "for i in range(0, max(mat.shape) - 1):\n",
    "    mat[i, 0] = xi[0, i]\n",
    "    mat[i, 1] = yi[0, i]\n",
    "ax = 1\n",
    "\n",
    "## creating of triangular structure of a matrix\n",
    "for k in range(1, nPoints - 1):\n",
    "    # print(k)\n",
    "    for r in range(k, nPoints):\n",
    "        # print(r)\n",
    "        mat[r, k + 1] = ((mat[r, k] - mat[r - 1, k]) / (mat[r, 0] - mat[r - ax, 0]))\n",
    "    ax += 1\n",
    "    \n",
    "#-- picking up the polynomial coefficients\n",
    "coefs = np.diag(mat[:, 1::])\n",
    "coefs = np.array(coefs)[np.newaxis]\n",
    "\n",
    "# --converting them to a handy matric format\n",
    "coefs = np.asanyarray(coefs)\n",
    "\n",
    "#-- alocation of memory for a results of polynomoial evaluation\n",
    "yy = np.zeros((1, max(xx.shape)))\n",
    "\n",
    "# --call a function to compute the coefficients of Newton Polynomial\n",
    "for i in range(0, max(xx.shape)):\n",
    "    yy[0, i] = eval_poly(xx[0, i], nPoints, xi, coefs)\n",
    "\n",
    "#-- making a plot\n",
    "plt.plot(xx[0, :], yy[0, :], xi, yi, '*')\n",
    "plt.show()\n"
   ]
  },
  {
   "cell_type": "code",
   "execution_count": null,
   "id": "c9d07b8a",
   "metadata": {},
   "outputs": [],
   "source": []
  }
 ],
 "metadata": {
  "kernelspec": {
   "display_name": "Python 3",
   "language": "python",
   "name": "python3"
  },
  "language_info": {
   "codemirror_mode": {
    "name": "ipython",
    "version": 3
   },
   "file_extension": ".py",
   "mimetype": "text/x-python",
   "name": "python",
   "nbconvert_exporter": "python",
   "pygments_lexer": "ipython3",
   "version": "3.9.5"
  }
 },
 "nbformat": 4,
 "nbformat_minor": 5
}
