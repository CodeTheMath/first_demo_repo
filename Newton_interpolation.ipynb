{
 "cells": [
  {
   "cell_type": "code",
   "execution_count": 12,
   "id": "388aa0a2",
   "metadata": {},
   "outputs": [
    {
     "data": {
      "image/png": "[encoded data removed]",
      "text/plain": [
       "<Figure size 432x288 with 1 Axes>"
      ]
     },
     "metadata": {
      "needs_background": "light"
     },
     "output_type": "display_data"
    }
   ],
   "source": [
    "## plik glowny programu interpolacja Newtona\n",
    "\n",
    "import numpy as np\n",
    "from matplotlib import pyplot as plt\n",
    "\n",
    "\n",
    "def eval_poly(x, n, xxi, coefs):\n",
    "    # --funkcja wyznaczaa wartosci wielomianu Newtona wydajna metoda\n",
    "    p = coefs[0, max(coefs.shape) - 1]\n",
    "    for k in range(n - 1, 0, -1):\n",
    "        # print(k)\n",
    "        p = p * (x - xxi[0, k - 1]) + coefs[0, k - 1]\n",
    "    px = p\n",
    "    return px\n",
    "\n",
    "\n",
    "nPoints = 8\n",
    "xi = np.linspace(3, 8, nPoints)\n",
    "xi = np.asanyarray(xi)\n",
    "xi = np.array(xi)[np.newaxis]\n",
    "xx = np.linspace(3, 8, nPoints * 10)\n",
    "xx = np.asanyarray(xx)\n",
    "xx = np.array(xx)[np.newaxis]  # -- zeby postrzegal to jako konstrukcje 1xn (tablice)\n",
    "\n",
    "yi = -0.2 * xi ** 5 + 1.3 * xi ** 4 + 2.7 * xi ** 2 + 4.3 * xi + 16\n",
    "\n",
    "mat = np.zeros((nPoints, nPoints + 1))\n",
    "\n",
    "##--wpisuje kolumnami\n",
    "\n",
    "for i in range(0, max(mat.shape) - 1):\n",
    "    mat[i, 0] = xi[0, i]\n",
    "    mat[i, 1] = yi[0, i]\n",
    "ax = 1\n",
    "\n",
    "## tworze strukture trojkatne macierzy\n",
    "\n",
    "for k in range(1, nPoints - 1):\n",
    "    # print(k)\n",
    "    for r in range(k, nPoints):\n",
    "        # print(r)\n",
    "        mat[r, k + 1] = ((mat[r, k] - mat[r - 1, k]) / (mat[r, 0] - mat[r - ax, 0]))\n",
    "    ax += 1\n",
    "\n",
    "coefs = np.diag(mat[:, 1::])\n",
    "coefs = np.array(coefs)[np.newaxis]\n",
    "# --konvertuje do amcierzy-\n",
    "coefs = np.asanyarray(coefs)\n",
    "# print(coefs)\n",
    "yy = np.zeros((1, max(xx.shape)))\n",
    "# print(max(coefs.shape))\n",
    "\n",
    "# --wywolanie funkcji wyznaczajacej wartosci wielomianu\n",
    "\n",
    "for i in range(0, max(xx.shape)):\n",
    "    yy[0, i] = eval_poly(xx[0, i], nPoints, xi, coefs)\n",
    "\n",
    "plt.plot(xx[0, :], yy[0, :], xi, yi, '*')\n",
    "plt.show()"
   ]
  },
  {
   "cell_type": "code",
   "execution_count": null,
   "id": "92c3e169",
   "metadata": {},
   "outputs": [],
   "source": []
  },
  {
   "cell_type": "code",
   "execution_count": null,
   "id": "c26052d4",
   "metadata": {},
   "outputs": [],
   "source": []
  },
  {
   "cell_type": "code",
   "execution_count": null,
   "id": "4bdeac5b",
   "metadata": {},
   "outputs": [],
   "source": []
  }
 ],
 "metadata": {
  "kernelspec": {
   "display_name": "Python 3",
   "language": "python",
   "name": "python3"
  },
  "language_info": {
   "codemirror_mode": {
    "name": "ipython",
    "version": 3
   },
   "file_extension": ".py",
   "mimetype": "text/x-python",
   "name": "python",
   "nbconvert_exporter": "python",
   "pygments_lexer": "ipython3",
   "version": "3.9.5"
  }
 },
 "nbformat": 4,
 "nbformat_minor": 5
}
